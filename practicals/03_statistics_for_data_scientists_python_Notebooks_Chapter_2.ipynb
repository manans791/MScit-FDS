{
  "nbformat": 4,
  "nbformat_minor": 0,
  "metadata": {
    "colab": {
      "name": "03_statistics-for-data-scientists-python/Notebooks/Chapter_2.ipynb",
      "provenance": [],
      "collapsed_sections": []
    },
    "kernelspec": {
      "name": "python3",
      "display_name": "Python 3"
    },
    "language_info": {
      "name": "python"
    }
  },
  "cells": [
    {
      "cell_type": "code",
      "metadata": {
        "id": "jOFCGFHmzNGd"
      },
      "source": [
        "import pandas as pd\n",
        "import numpy as np\n",
        "import scipy.stats as stats\n",
        "from scipy.stats import binom\n",
        "import seaborn as sns\n",
        "import pylab\n",
        "\n",
        "import matplotlib.pyplot as plt"
      ],
      "execution_count": 1,
      "outputs": []
    },
    {
      "cell_type": "code",
      "metadata": {
        "id": "0KgS4dTyzmrv"
      },
      "source": [
        "loans_income = pd.read_csv('/content/sample_data/loans_income.csv')\n",
        "sp500_px = pd.read_csv('/content/sample_data/sp500_px.csv')"
      ],
      "execution_count": 2,
      "outputs": []
    },
    {
      "cell_type": "code",
      "metadata": {
        "colab": {
          "base_uri": "https://localhost:8080/"
        },
        "id": "R0OmRrJq1ZAf",
        "outputId": "13d97b3a-51ee-43e4-dc0f-19403a1101bb"
      },
      "source": [
        "loans_income.shape"
      ],
      "execution_count": 3,
      "outputs": [
        {
          "output_type": "execute_result",
          "data": {
            "text/plain": [
              "(50000, 1)"
            ]
          },
          "metadata": {},
          "execution_count": 3
        }
      ]
    },
    {
      "cell_type": "code",
      "metadata": {
        "colab": {
          "base_uri": "https://localhost:8080/"
        },
        "id": "C-FYUpga1qNm",
        "outputId": "463a556d-efbd-432a-9d63-d64700d4bcfe"
      },
      "source": [
        "#Take a 1000 Samples\n",
        "samples = loans_income.sample(n=1000)\n",
        "samples.head"
      ],
      "execution_count": 6,
      "outputs": [
        {
          "output_type": "execute_result",
          "data": {
            "text/plain": [
              "<bound method NDFrame.head of             x\n",
              "48512   90000\n",
              "21502   56000\n",
              "28777   80000\n",
              "3075   125000\n",
              "22586   40000\n",
              "...       ...\n",
              "13225   50000\n",
              "28996   53000\n",
              "17992   72000\n",
              "3043    35000\n",
              "6708    36000\n",
              "\n",
              "[1000 rows x 1 columns]>"
            ]
          },
          "metadata": {},
          "execution_count": 6
        }
      ]
    },
    {
      "cell_type": "code",
      "metadata": {
        "colab": {
          "base_uri": "https://localhost:8080/"
        },
        "id": "1pOZ3Z9-1vXm",
        "outputId": "8cf3d578-1723-4ad2-d0e2-e6e9a7cab1df"
      },
      "source": [
        "samples.tail"
      ],
      "execution_count": 7,
      "outputs": [
        {
          "output_type": "execute_result",
          "data": {
            "text/plain": [
              "<bound method NDFrame.tail of             x\n",
              "48512   90000\n",
              "21502   56000\n",
              "28777   80000\n",
              "3075   125000\n",
              "22586   40000\n",
              "...       ...\n",
              "13225   50000\n",
              "28996   53000\n",
              "17992   72000\n",
              "3043    35000\n",
              "6708    36000\n",
              "\n",
              "[1000 rows x 1 columns]>"
            ]
          },
          "metadata": {},
          "execution_count": 7
        }
      ]
    },
    {
      "cell_type": "code",
      "metadata": {
        "colab": {
          "base_uri": "https://localhost:8080/"
        },
        "id": "6PFi78aV2anu",
        "outputId": "d1cc9bf0-b06f-45de-e881-1eeb6dee4976"
      },
      "source": [
        "#mean of 5 numbers\n",
        "sample_mean_5 = samples.rolling(5).mean().x\n",
        "sample_mean_5"
      ],
      "execution_count": 9,
      "outputs": [
        {
          "output_type": "execute_result",
          "data": {
            "text/plain": [
              "48512        NaN\n",
              "21502        NaN\n",
              "28777        NaN\n",
              "3075         NaN\n",
              "22586    78200.0\n",
              "          ...   \n",
              "13225    48400.0\n",
              "28996    39000.0\n",
              "17992    47000.0\n",
              "3043     49000.0\n",
              "6708     49200.0\n",
              "Name: x, Length: 1000, dtype: float64"
            ]
          },
          "metadata": {},
          "execution_count": 9
        }
      ]
    },
    {
      "cell_type": "code",
      "metadata": {
        "colab": {
          "base_uri": "https://localhost:8080/"
        },
        "id": "GI6u2yD92gg1",
        "outputId": "9b51e1c8-1494-4f7c-97b3-625c4e02c466"
      },
      "source": [
        "sample_mean_5 = sample_mean_5.dropna()\n",
        "sample_mean_5"
      ],
      "execution_count": 10,
      "outputs": [
        {
          "output_type": "execute_result",
          "data": {
            "text/plain": [
              "22586    78200.0\n",
              "23721    69075.4\n",
              "49799    84275.4\n",
              "25846    85275.4\n",
              "315      80275.4\n",
              "          ...   \n",
              "13225    48400.0\n",
              "28996    39000.0\n",
              "17992    47000.0\n",
              "3043     49000.0\n",
              "6708     49200.0\n",
              "Name: x, Length: 996, dtype: float64"
            ]
          },
          "metadata": {},
          "execution_count": 10
        }
      ]
    },
    {
      "cell_type": "code",
      "metadata": {
        "colab": {
          "base_uri": "https://localhost:8080/"
        },
        "id": "Elcs0w_b3SSm",
        "outputId": "fb71c510-e2c4-40d2-ce1d-7848127beb5c"
      },
      "source": [
        "#mean of 20 numbers\n",
        "sample_mean_20 = samples.rolling(20).mean().x\n",
        "sample_mean_20"
      ],
      "execution_count": 11,
      "outputs": [
        {
          "output_type": "execute_result",
          "data": {
            "text/plain": [
              "48512         NaN\n",
              "21502         NaN\n",
              "28777         NaN\n",
              "3075          NaN\n",
              "22586         NaN\n",
              "           ...   \n",
              "13225    59056.85\n",
              "28996    58156.85\n",
              "17992    58006.85\n",
              "3043     56706.85\n",
              "6708     53756.85\n",
              "Name: x, Length: 1000, dtype: float64"
            ]
          },
          "metadata": {},
          "execution_count": 11
        }
      ]
    },
    {
      "cell_type": "code",
      "metadata": {
        "colab": {
          "base_uri": "https://localhost:8080/"
        },
        "id": "IvPe2nyL34EN",
        "outputId": "ce864e35-7c86-49a7-9344-b9062dc4967a"
      },
      "source": [
        "sample_mean_20 = sample_mean_20.dropna()\n",
        "sample_mean_20"
      ],
      "execution_count": 12,
      "outputs": [
        {
          "output_type": "execute_result",
          "data": {
            "text/plain": [
              "39474    75213.75\n",
              "26265    74213.75\n",
              "41275    75713.75\n",
              "15389    74963.75\n",
              "5806     70213.75\n",
              "           ...   \n",
              "13225    59056.85\n",
              "28996    58156.85\n",
              "17992    58006.85\n",
              "3043     56706.85\n",
              "6708     53756.85\n",
              "Name: x, Length: 981, dtype: float64"
            ]
          },
          "metadata": {},
          "execution_count": 12
        }
      ]
    },
    {
      "cell_type": "code",
      "metadata": {
        "colab": {
          "base_uri": "https://localhost:8080/"
        },
        "id": "4W2MkSRH37ut",
        "outputId": "018fa21a-8db3-4b02-ccde-12bcea6c3321"
      },
      "source": [
        "# mean of 30 numbers\n",
        "sample_mean_30 = samples.rolling(30).mean().x\n",
        "sample_mean_30"
      ],
      "execution_count": 13,
      "outputs": [
        {
          "output_type": "execute_result",
          "data": {
            "text/plain": [
              "48512             NaN\n",
              "21502             NaN\n",
              "28777             NaN\n",
              "3075              NaN\n",
              "22586             NaN\n",
              "             ...     \n",
              "13225    55956.433333\n",
              "28996    54589.766667\n",
              "17992    56623.100000\n",
              "3043     55723.100000\n",
              "6708     55256.433333\n",
              "Name: x, Length: 1000, dtype: float64"
            ]
          },
          "metadata": {},
          "execution_count": 13
        }
      ]
    },
    {
      "cell_type": "code",
      "metadata": {
        "colab": {
          "base_uri": "https://localhost:8080/"
        },
        "id": "PS4qVJjm4AHt",
        "outputId": "fbcfb66b-3072-4ae4-f7fd-a66725763f70"
      },
      "source": [
        "sample_mean_30 = sample_mean_30.dropna()\n",
        "sample_mean_30"
      ],
      "execution_count": 15,
      "outputs": [
        {
          "output_type": "execute_result",
          "data": {
            "text/plain": [
              "9469     71609.166667\n",
              "49580    70509.166667\n",
              "21791    70642.500000\n",
              "34880    69142.500000\n",
              "17677    67309.166667\n",
              "             ...     \n",
              "13225    55956.433333\n",
              "28996    54589.766667\n",
              "17992    56623.100000\n",
              "3043     55723.100000\n",
              "6708     55256.433333\n",
              "Name: x, Length: 971, dtype: float64"
            ]
          },
          "metadata": {},
          "execution_count": 15
        }
      ]
    },
    {
      "cell_type": "code",
      "metadata": {
        "colab": {
          "base_uri": "https://localhost:8080/",
          "height": 607
        },
        "id": "xAkhj9AT4EHG",
        "outputId": "c5725f8a-e1c6-4959-f42e-4971f41e373e"
      },
      "source": [
        "fig = plt.figure(figsize=(10,10))\n",
        "#The full distribution of the plot:\n",
        "ax = fig.add_subplot(2,2,1)\n",
        "ax.hist(loans_income.x,bins=25)\n",
        "plt.title('Full Plot of the whole DATAFRAME')\n",
        "\n",
        "#distribution of 1000 samples:\n",
        "\n",
        "ax = fig.add_subplot(2,2,2)\n",
        "ax.hist(samples.x,bins=40)\n",
        "plt.title('Full Plot of the 1000 samples')\n",
        "\n",
        "\n",
        "#distribution of means of 5 numbers from 1000 samples:\n",
        "ax = fig.add_subplot(2,2,3)\n",
        "ax.hist(sample_mean_5,bins=40)\n",
        "plt.title('Plot of Rolling Mean 5 of the 1000 samples')\n",
        "\n",
        "#distribution of means of 20 numbers from 1000 samples:\n",
        "ax = fig.add_subplot(2,2,4)\n",
        "ax.hist(sample_mean_20,bins=40,label='Mean of 20')\n",
        "ax.hist(sample_mean_30,bins=40,label='Mean of 30')\n",
        "plt.title('Plot of Rolling Mean 20 and 30 of the 1000 samples')\n",
        "ax.legend()\n",
        "plt.show()\n",
        "\n",
        "plt.show()"
      ],
      "execution_count": 40,
      "outputs": [
        {
          "output_type": "display_data",
          "data": {
            "image/png": "[encoded data removed]",
            "text/plain": [
              "<Figure size 720x720 with 4 Axes>"
            ]
          },
          "metadata": {
            "needs_background": "light"
          }
        }
      ]
    },
    {
      "cell_type": "code",
      "metadata": {
        "colab": {
          "base_uri": "https://localhost:8080/"
        },
        "id": "IxhIN1895FV1",
        "outputId": "fca9117c-934b-4dfd-a57b-716339f86b60"
      },
      "source": [
        "\n",
        "#Calculating a rolling mean:\n",
        "print('Total Population STD : ',loans_income.x.std())\n",
        "print('Total Population Mean : ',loans_income.x.mean())\n",
        "print('Total Population Median : ',np.median(loans_income.x))\n",
        "print('Total Population Standard Error:',stats.sem(loans_income.x, ddof=1))"
      ],
      "execution_count": 27,
      "outputs": [
        {
          "output_type": "stream",
          "name": "stdout",
          "text": [
            "Total Population STD :  32872.03536985002\n",
            "Total Population Mean :  68760.51844\n",
            "Total Population Median :  62000.0\n",
            "Total Population Standard Error: 147.00821129152527\n"
          ]
        }
      ]
    },
    {
      "cell_type": "code",
      "metadata": {
        "id": "miCXTkPw69ZV"
      },
      "source": [
        "bootstrap_1000 = np.random.choice(loans_income.x,size=1000,replace=True)\n",
        "bootstrap_10000 = np.random.choice(loans_income.x,size=10000,replace=True)\n",
        "bootstrap_20000 = np.random.choice(loans_income.x,size=20000,replace=True)"
      ],
      "execution_count": 28,
      "outputs": []
    },
    {
      "cell_type": "code",
      "metadata": {
        "colab": {
          "base_uri": "https://localhost:8080/"
        },
        "id": "2yrWaIbh_O5U",
        "outputId": "21827369-bae0-4354-e313-fbd74bf895cc"
      },
      "source": [
        "bootstrap_1000.shape"
      ],
      "execution_count": 29,
      "outputs": [
        {
          "output_type": "execute_result",
          "data": {
            "text/plain": [
              "(1000,)"
            ]
          },
          "metadata": {},
          "execution_count": 29
        }
      ]
    },
    {
      "cell_type": "code",
      "metadata": {
        "colab": {
          "base_uri": "https://localhost:8080/"
        },
        "id": "QmZYT5ha_T91",
        "outputId": "408a34d4-5f34-4b95-ef16-ab591b8d0738"
      },
      "source": [
        "bootstrap_10000"
      ],
      "execution_count": 30,
      "outputs": [
        {
          "output_type": "execute_result",
          "data": {
            "text/plain": [
              "array([ 54000,  40000,  85000, ..., 120000,  65000,  50000])"
            ]
          },
          "metadata": {},
          "execution_count": 30
        }
      ]
    },
    {
      "cell_type": "code",
      "metadata": {
        "colab": {
          "base_uri": "https://localhost:8080/"
        },
        "id": "VyyqTTYl_XxF",
        "outputId": "46e03b79-c1a5-459d-c54b-92950eae10cd"
      },
      "source": [
        "arr_bootstraps = [bootstrap_1000,bootstrap_10000,bootstrap_20000]\n",
        "arr_bootstraps"
      ],
      "execution_count": 32,
      "outputs": [
        {
          "output_type": "execute_result",
          "data": {
            "text/plain": [
              "[array([ 75000,  80000,  60000,  40000,  74000,  62042,  85000, 152004,\n",
              "         75000,  45000, 120000, 186000,  80000,  28000,  51000,  62200,\n",
              "         25000,  90000,  48000, 110000,  50000, 135000,  55000,  65000,\n",
              "         30000,  70000,  68000,  92000,  70000,  38000,  48000, 110000,\n",
              "         50000,  64070,  70000,  80000,  90000,  70000,  33000,  44000,\n",
              "         95000,  71000,  84000,  65000,  65000,  36000,  80200,  98303,\n",
              "         52512, 103000,  85000,  70000,  60000, 120000, 100000,  28000,\n",
              "         14000,  42000,  55000,  65000, 130000, 190000,  79000,  30000,\n",
              "         53000, 125000,  60000,  51094,  33000,  45000,  36000,  43500,\n",
              "         25000,  53909,  70000, 125000,  37000, 140000,  68000,  51688,\n",
              "         35000,  77424,  48000,  53500,  21000,  48000,  13008,  60000,\n",
              "         45000, 155000,  85000,  42640,  62000,  51000, 145000,  50000,\n",
              "         26000,  35000,  67200,  44000,  45000,  44000, 104000, 171000,\n",
              "         55000,  61800,  74000, 115000,  20157,  28600,  92000,  27000,\n",
              "         61000,  95000,  75000,  42000,  45756,  35000,  30000,  16272,\n",
              "         64000,  69000,  55000,  66562,  80000, 140000,  30000,  35000,\n",
              "        110000,  45000,  95000, 125000,  27500, 120000, 192000,  40000,\n",
              "         95176, 106000, 125000,  45000,  35000,  56000,  69000,  69000,\n",
              "         63500,  40000,  62000,  61000,  50000,  95000,  72500,  23196,\n",
              "         75000,  49000, 107000,  36888,  75000,  28600,  65000,  35000,\n",
              "         70230,  51000,  45000,  96400,  75000,  65000,  38000,  90000,\n",
              "         40000,  52700,  45000,  89000,  45000, 110000,  65000,  36000,\n",
              "         67000,  35000,  70000,  30000,  48000,  46000,  46000,  85000,\n",
              "         38000,  90000,  70400, 100000,  47710,  59600,  72455,  49478,\n",
              "         77000,  85000,  83000,  37000,  46000, 189000,  40560,  70000,\n",
              "         80000, 100000, 105000,  48000,  34000, 115000,  70000,  85000,\n",
              "         60000,  40000,  43000, 105000,  32000,  55000,  94500,  98775,\n",
              "         45000,  71266,  65000,  87000,  75000,  38000,  57500,  34000,\n",
              "         75000,  75000,  57000,  71500,  69000,  54505,  78000,  80000,\n",
              "         63000,  65000,  34000,  81000,  14000,  46500, 125000,  54600,\n",
              "        100000,  80000,  71000,  40000, 109000,  60000,  71000,  80000,\n",
              "         65000,  60000,  74000,  37000,  60000,  66000, 110000,  77200,\n",
              "         53000,  40000,  42000,  55000,  96456,  75000, 100000,  37000,\n",
              "         89000,  34000,  47000,  50000,  90000, 106000,  18000,  50000,\n",
              "         54235,  65000,  64000,  80000,  50000,  92000,  53800,  38500,\n",
              "         80000,  54000,  86000,  50000,  40000,  51000,  55000, 112140,\n",
              "        131000,  55000,  70000,  42000, 132000,  65000,  65000,  75000,\n",
              "         55528, 110000,  74222,  70000,  60000,  68000,  46800,  48000,\n",
              "        100000,  48000,  88992, 165000,  56000,  89797,  50000, 105400,\n",
              "         25000,  52000,  65000,  85000,  41000,  37663,  42557,  80000,\n",
              "         85000, 108000,  90000,  60000,  90000,  90000,  50000,  47000,\n",
              "        100000,  75000,  55000,  42240,  95000,  22800, 106000,  95000,\n",
              "         73500, 116000, 100584,  65249,  95000, 100200,  65000, 120000,\n",
              "         40300,  35000,  40000,  80000,  50000, 106000,  35000,  70000,\n",
              "         70000,  60000,  86000,  53000,  24000,  43000,  36000,  72000,\n",
              "        110000,  80000,  69000,  27000, 106000,  70000,  32500,  40000,\n",
              "         30500,  36000,  32000,  41000,  35000,  30000,  75000, 100000,\n",
              "         57500,  78000,  60000,  90000,  60000,  39500,  45000,  38168,\n",
              "         31741,  69000,  72900,  63000,  77800,  26000,  82000,  75000,\n",
              "        150000,  25400,  95000,  60000,  65000,  47000,  79630,  41600,\n",
              "         80000,  70400,  75000,  80000,  43000,  94000,  24000, 110000,\n",
              "         27000,  40000,  51000, 120000, 145000,  37440,  87000,  70000,\n",
              "         85000,  68000, 154000,  84000, 185000,  40000,  15000,  40000,\n",
              "         33000, 140000, 143000,  78000,  98000,  45000,  53000,  33000,\n",
              "         86000,  70000,  33357,  60000,  75000, 151000,  50000,  25000,\n",
              "         35000,  60000,  20000,  59000,  67000,  64000,  66000,  65000,\n",
              "         92000, 155000,  93000, 100000,  72286, 140000,  75000,  42500,\n",
              "        100000,  42000,  37000,  96000,  80000,  62000,  51000,  52000,\n",
              "         65000,  82000, 125000,  70000,  56500,  67500,  35000, 110000,\n",
              "         35900,  88000,  49000,  60000,  38000,  37000,  70000,  39500,\n",
              "         71000,  80000,  45000,  80000,  90000,  63000,  75000, 100000,\n",
              "         65000,  35000,  80000, 160000,  75000,  28000,  71499,  75000,\n",
              "         61200,  42000,  75000,  96500,  90000,  71000,  28428, 175000,\n",
              "         84237,  50000,  62836,  27680,  45000,  50000,  48000,  65000,\n",
              "         44000,  78000,  48000,  40800,  45000,  28000,  40560,  90000,\n",
              "         86400, 138200, 120000,  45000,  98000, 135200,  43000,  45000,\n",
              "         25000, 125000,  97700,  15000,  39624,  46000,  69912,  70000,\n",
              "         32000,  39000,  51938,  25000,  95000,  50000,  95000, 147000,\n",
              "         90000, 150000,  83500,  34000, 120000,  41000,  40000, 170000,\n",
              "         29000,  85000,  80000,  15500,  50978,  88000,  88000,  85000,\n",
              "         24000,  80000,  50000, 100000,  45000,  45000,  66000,  76780,\n",
              "         65000,  35000,  40831,  28000,  26000,  68000,  82000,  41570,\n",
              "         25000,  54295,  80000,  30000,  22200, 105000,  20175,  80000,\n",
              "         60000, 110000,  45000,  49500, 102000,  61000, 110000,  70000,\n",
              "         70000, 105000, 148000,  74880,  20000,  40000,  48000,  36500,\n",
              "         72155,  68000, 106000, 105000,  67114,  87700,  55000,  25170,\n",
              "         20300, 148000, 185000,  66569,  52000,  94000,  42000,  54000,\n",
              "         35000,  95000,  38000,  70000,  53000,  25000,  95400,  35000,\n",
              "         40000,  60000, 105000,  45000,  45000,  67846,  60000,  50200,\n",
              "         50000,  60000,  60000,  39270,  40000,  90000,  65000,  55000,\n",
              "         42000,  81000,  87000, 170000,  30000,  32300,  89000,  70080,\n",
              "         85000, 113004,  45000,  75000,  43936,  50000, 178000,  40000,\n",
              "         40000,  62000,  57200,  41000, 120000,  41715,  65000,  95000,\n",
              "         80000,  28600, 106684,  46500,  25000,  64800,  65000,  47000,\n",
              "         30000,  60000,  40000,  46600,  55000, 109000,  25000,  60000,\n",
              "         52000,  64000,  48000,  75000,  58000, 150000,  52000,  63000,\n",
              "         50000,  17400,  46000,  64000,  72000,  42000,  30000,  59798,\n",
              "         60000,  87000,  30000,  75000,  48489,  60000,  53785,  36000,\n",
              "         60000, 169000,  35000,  60000,  91500,  65000,  68000, 115000,\n",
              "         50000,  83000,  55000, 115000,  40000,  60000, 150000,  68000,\n",
              "         86000,  49500, 100000,  37000, 102000,  67475,  80000,  47000,\n",
              "         56000,  77000,  54000, 115000,  27000,  42000,  64000,  41000,\n",
              "         30000,  62400,  62000,  96000,  58000,  86000,  95000, 130000,\n",
              "         96000,  47200,  35000,  63000, 125657, 150000,  40000, 160000,\n",
              "         45000, 120000,  41000, 110000,  80000, 100000,  51000,  47000,\n",
              "         40400,  99000,  52000,  62000,  45000,  62000,  75000,  90000,\n",
              "         37000,  46000,  52000,  45000, 157000,  56000,  50000,  34128,\n",
              "         39896, 116113,  60000,  45000,  34000,  54000, 120000, 120000,\n",
              "        158400,  74800, 120000,  80000,  65000,  67500,  95000,  65000,\n",
              "         36000,  30000,  40000,  38000,  80000,  28000,  47000,  95000,\n",
              "        110000,  30000, 125000,  70000, 105000,  38000,  46000,  50000,\n",
              "         40000,  72000, 100000, 132000,  65000,  34000,  80000,  20000,\n",
              "         95000,  42000, 135000, 102000,  79000,  71000,  50000,  24000,\n",
              "         45000,  70000, 110000, 122000, 100000,  79000,  72000,  25000,\n",
              "         70000,  81000, 108000,  60000,  43420,  30000,  86000,  57000,\n",
              "         22000,  54000,  34500, 121000,  67000, 120000,  96000,  90000,\n",
              "         24000,  75000,  66000,  50000,  60000,  59000,  99700,  80300,\n",
              "         28000,  70000, 100812,  80000,  70000,  36600, 150000,  70000,\n",
              "         26000,  43600,  48000,  38000,  70000,  39000,  95000,  74800,\n",
              "         13500,  14400,  80000,  24000,  58000, 100000,  68000, 110000,\n",
              "         39600,  65000,  50000,  40000,  40000,  55000,  46800,  77000,\n",
              "         33000,  43000,  67000,  46000, 100200,  35000,  40000,  49000,\n",
              "         64000,  48000,  13000,  51000,  26000, 115000,  57200,  69000,\n",
              "         97000, 170000,  60000,  62000,  53000,  57000,  78000,  59168,\n",
              "         60000,  95000,  45600, 109000,  33656,  45000,  80000,  59000,\n",
              "         85000,  35000,  40000,  70000,  33000,  52000,  70000,  98582,\n",
              "        129000,  72000,  55000, 126000, 110000,  58000,  62500,  76000,\n",
              "         52000,  18000,  59650,  58000,  37500,  89000,  75000,  55000,\n",
              "         62000,  16800,  60000,  40000,  21000, 105000,  95000,  75000,\n",
              "         28500,  77642,  58000,  35162,  67400, 104000,  63000,  85000,\n",
              "        105000,  65750,  55000,  68000,  50000,  30000,  72000,  45000,\n",
              "         47000,  50000,  64000,  70000,  80000,  99000,  57000,  80000,\n",
              "        110000,  55000,  33000,  75000, 118000, 110000,  36000, 105104,\n",
              "         51938,  65000, 100000,  70000,  48000,  42854,  49200,  59004,\n",
              "         45000,  38000,  47840,  35496,  22880,  45000,  65000, 107000]),\n",
              " array([ 54000,  40000,  85000, ..., 120000,  65000,  50000]),\n",
              " array([31700, 25000, 64000, ..., 35000, 78000, 90000])]"
            ]
          },
          "metadata": {},
          "execution_count": 32
        }
      ]
    },
    {
      "cell_type": "code",
      "metadata": {
        "colab": {
          "base_uri": "https://localhost:8080/"
        },
        "id": "WpCzwG5G_cMV",
        "outputId": "38ccda9c-dd6a-4087-a5df-fe4db939e65d"
      },
      "source": [
        "#Calculating a rolling mean:\n",
        "for i in range(len(arr_bootstraps)):\n",
        "    print('Bootstrap Stats for {} examples \\n'.format(len(arr_bootstraps[i])))\n",
        "    print('------------------------------------------------------------------------------\\n')\n",
        "    print('Bootstrap STD : ',np.std(arr_bootstraps[i],ddof=1))\n",
        "    print('Bootstrap Mean : ',np.mean(arr_bootstraps[i]))\n",
        "    print('Bootstrap Median: ',np.median(arr_bootstraps[i]))\n",
        "    print('Boostrap Bias, ',loans_income.x.mean() - np.mean(arr_bootstraps[i],axis=0))\n",
        "    print('Standard Error:',stats.sem(arr_bootstraps[i], ddof=1))\n",
        "    print('\\n------------------------------------------------------------------------------\\n')"
      ],
      "execution_count": 33,
      "outputs": [
        {
          "output_type": "stream",
          "name": "stdout",
          "text": [
            "Bootstrap Stats for 1000 examples \n",
            "\n",
            "------------------------------------------------------------------------------\n",
            "\n",
            "Bootstrap STD :  31986.344172014884\n",
            "Bootstrap Mean :  67587.93\n",
            "Bootstrap Median:  62668.0\n",
            "Boostrap Bias,  1172.5884400000068\n",
            "Standard Error: 1011.497016056197\n",
            "\n",
            "------------------------------------------------------------------------------\n",
            "\n",
            "Bootstrap Stats for 10000 examples \n",
            "\n",
            "------------------------------------------------------------------------------\n",
            "\n",
            "Bootstrap STD :  32696.738264418076\n",
            "Bootstrap Mean :  68387.8096\n",
            "Bootstrap Median:  61000.0\n",
            "Boostrap Bias,  372.7088400000066\n",
            "Standard Error: 326.96738264418076\n",
            "\n",
            "------------------------------------------------------------------------------\n",
            "\n",
            "Bootstrap Stats for 20000 examples \n",
            "\n",
            "------------------------------------------------------------------------------\n",
            "\n",
            "Bootstrap STD :  32605.941271453397\n",
            "Bootstrap Mean :  68559.2899\n",
            "Bootstrap Median:  62000.0\n",
            "Boostrap Bias,  201.22853999999643\n",
            "Standard Error: 230.55882180015016\n",
            "\n",
            "------------------------------------------------------------------------------\n",
            "\n"
          ]
        }
      ]
    },
    {
      "cell_type": "code",
      "metadata": {
        "colab": {
          "base_uri": "https://localhost:8080/",
          "height": 295
        },
        "id": "xTVcVwHFAFvE",
        "outputId": "9e708d86-66e9-4723-904c-dff069a46de0"
      },
      "source": [
        "measurements = np.random.normal(loc = 20, scale = 5, size=100)   \n",
        "stats.probplot(measurements, dist=\"norm\", plot=pylab)\n",
        "pylab.show()"
      ],
      "execution_count": 41,
      "outputs": [
        {
          "output_type": "display_data",
          "data": {
            "image/png": "[encoded data removed]",
            "text/plain": [
              "<Figure size 432x288 with 1 Axes>"
            ]
          },
          "metadata": {
            "needs_background": "light"
          }
        }
      ]
    },
    {
      "cell_type": "code",
      "metadata": {
        "id": "Gle7sVsWDths"
      },
      "source": [
        "nflx = sp500_px.loc[:,'NFLX']\n",
        "pylab.show()"
      ],
      "execution_count": 42,
      "outputs": []
    },
    {
      "cell_type": "code",
      "metadata": {
        "colab": {
          "base_uri": "https://localhost:8080/",
          "height": 295
        },
        "id": "gqTf5YSYEd68",
        "outputId": "e43fc151-8e39-4648-f1ee-65a5be6c67d5"
      },
      "source": [
        "\n",
        "stats.probplot(nflx, dist=\"norm\", plot=pylab)\n",
        "pylab.show()"
      ],
      "execution_count": 43,
      "outputs": [
        {
          "output_type": "display_data",
          "data": {
            "image/png": "[encoded data removed]",
            "text/plain": [
              "<Figure size 432x288 with 1 Axes>"
            ]
          },
          "metadata": {
            "needs_background": "light"
          }
        }
      ]
    },
    {
      "cell_type": "code",
      "metadata": {
        "colab": {
          "base_uri": "https://localhost:8080/",
          "height": 366
        },
        "id": "MPxjRRSCE-6N",
        "outputId": "e16861bc-1d3c-4f4c-dc7e-a6d818883099"
      },
      "source": [
        "treated_nflx = np.diff(np.log(nflx))\n",
        "stats.probplot(treated_nflx, dist=\"norm\", plot=pylab,fit=True)\n",
        "pylab.show()\n"
      ],
      "execution_count": 47,
      "outputs": [
        {
          "output_type": "stream",
          "name": "stderr",
          "text": [
            "/usr/local/lib/python3.7/dist-packages/pandas/core/series.py:726: RuntimeWarning: divide by zero encountered in log\n",
            "  result = getattr(ufunc, method)(*inputs, **kwargs)\n",
            "/usr/local/lib/python3.7/dist-packages/numpy/lib/function_base.py:1280: RuntimeWarning: invalid value encountered in subtract\n",
            "  a = op(a[slice1], a[slice2])\n"
          ]
        },
        {
          "output_type": "display_data",
          "data": {
            "image/png": "[encoded data removed]",
            "text/plain": [
              "<Figure size 432x288 with 1 Axes>"
            ]
          },
          "metadata": {
            "needs_background": "light"
          }
        }
      ]
    },
    {
      "cell_type": "code",
      "metadata": {
        "id": "x6vshHelFlHN"
      },
      "source": [
        ""
      ],
      "execution_count": null,
      "outputs": []
    }
  ]
}